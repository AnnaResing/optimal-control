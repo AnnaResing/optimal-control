{
 "cells": [
  {
   "cell_type": "code",
   "execution_count": 1,
   "metadata": {
    "collapsed": true
   },
   "outputs": [],
   "source": [
    "from scipy.optimize import minimize\n",
    "from scipy.integrate import odeint\n",
    "import mystic\n",
    "import numpy as np\n",
    "import matplotlib.pyplot as plt\n",
    "%matplotlib inline"
   ]
  },
  {
   "cell_type": "code",
   "execution_count": 18,
   "metadata": {},
   "outputs": [
    {
     "name": "stdout",
     "output_type": "stream",
     "text": [
      "[ 0.  0.  0.  0.  0.  0.  0.  0.  0.  0.  0.  0.  0.  0.  0.  0.  0.  0.\n",
      "  0.  0.  0.  0.  0.  0.  0.  0.  0.  0.  0.  0.  0.  0.  0.  0.  0.  0.\n",
      "  0.  0.  0.  0.  0.  0.  0.  0.  0.  0.  0.  0.  0.  0.  0.  0.  0.  0.\n",
      "  0.  0.  0.  0.  0.  0.  0.  0.  0.  0.  0.  0.  0.  0.  0.  0.  0.  0.\n",
      "  0.  0.  0.  0.  0.  0.  0.  0.  0.  0.  0.  0.  0.  0.  0.  0.  0.  0.\n",
      "  0.  0.  0.  0.  0.  0.  0.  0.  0.  0.  1.]\n",
      "[ 0.   0.6]\n"
     ]
    }
   ],
   "source": [
    "# Anzahl der Zeitschritte\n",
    "N = 100\n",
    "h = 3\n",
    "# Anfangswerte der Steuerung\n",
    "u_0 = np.zeros(N)\n",
    "u_0 = np.append(u_0,[1])\n",
    "# print(u_0)\n",
    "\n",
    "#Anfangswert der Zustände\n",
    "y0 = np.array([0,0.6])\n",
    "# print(y0)\n",
    "\n",
    "# Parameter für das Funktional\n",
    "cu = 1/10\n",
    "cx = 20000\n",
    "cz = 1/100\n",
    "\n",
    "# Endwerte der Zustände\n",
    "xT = 0.1\n",
    "zT = 200"
   ]
  },
  {
   "cell_type": "code",
   "execution_count": 3,
   "metadata": {
    "collapsed": true
   },
   "outputs": [],
   "source": [
    "# Zustandsgleichungen\n",
    "# Parameter des Modells\n",
    "a = 0.2;\n",
    "a1 = -0.0052;\n",
    "b1 = -0.0656;\n",
    "c1 = 0.147;\n",
    "a3 = 0.0071;\n",
    "b3 = 0.0539;\n",
    "c3 = -0.71;\n",
    "s = 1.21;\n",
    "t = 0.126;\n",
    "\n",
    "# Reynoldzahl\n",
    "Re = 10;\n"
   ]
  },
  {
   "cell_type": "code",
   "execution_count": 4,
   "metadata": {
    "collapsed": true,
    "scrolled": true
   },
   "outputs": [],
   "source": [
    "def Zustandsgleichung(x,u,flag):\n",
    "\n",
    "    # Hilsfunktionen\n",
    "    phi1 =  a1*np.power(u,2)+b1*u+c1\n",
    "    phi3 = a3*np.power(u,2)+b3*u+c3\n",
    "    phiw = np.power(10,-8)\n",
    "    fw = np.divide(1,np.power(x-1.001*(1-a),3)) +  np.divide(1,np.power(x+1.001*(1-a),3))\n",
    "    Dfw = np.divide(-3,np.power(x-1.001*(1-a),4)) - np.divide(3,np.power(x+1.001*(1-a),4))\n",
    "    ksi = 3*np.pi*Re*a *(s+t*(np.divide(a,1.001-a-np.absolute(x))))\n",
    "    \n",
    "    f1 = -np.power(x,2) + 1 + np.divide(1,ksi)*u;\n",
    "    f2 = np.divide(1,ksi)*(phi1*x + phi3*(np.power(x,3)) + phiw*fw);\n",
    "    # Gibt die rechte Seite zurück\n",
    "    if flag == 'f':\n",
    "        return np.array([f1,f2])\n",
    "    # Gibt die Ableitung nach x zurück\n",
    "    elif flag == 'Df':\n",
    "        ksix = np.divide(-a*t,np.power(a*t-s*(a+x-1),2));\n",
    "        DDx1 = -2*x + ksix *u;\n",
    "        Dx2 = np.divide(1,ksi)*(phi1*x + phi3*np.power(x,3) + phiw*fw);\n",
    "        DDx2 = np.divide(1,ksi)*(phi1 + 3 *phi3*np.power(x,2) + phiw*Dfw)+ksix * f2;\n",
    "        return np.array([DDx1,DDx2])\n",
    "    else:\n",
    "        return 'Error'\n",
    "\n",
    "#print(Zustandsgleichung(x,u,1))"
   ]
  },
  {
   "cell_type": "code",
   "execution_count": 5,
   "metadata": {
    "collapsed": true
   },
   "outputs": [],
   "source": [
    "# Lösen der Zustandsgleichung mit expliziten Euler\n",
    "\n",
    "def Euler(u):\n",
    "    y = np.zeros((2,N+1))\n",
    "    y[:,0] = y0\n",
    "    for i in range(1,N+1):\n",
    "        f = Zustandsgleichung(y[1,i-1],u[i-1],'f')\n",
    "        y[:,i] = y[:,i-1] + u[N]* f\n",
    "    return y\n",
    "    "
   ]
  },
  {
   "cell_type": "code",
   "execution_count": 8,
   "metadata": {
    "collapsed": true
   },
   "outputs": [],
   "source": [
    "#Zielfunktional \n",
    "\n",
    "def Funktional(u):\n",
    "    zx = Euler(u)\n",
    "    J = cx*np.power(zx[1,-1]-xT,2) +cu*u[N]*(np.dot(u[0:N],u[0:N]))+cz*np.power(zx[0,-1]- zT,2)\n",
    "    return J"
   ]
  },
  {
   "cell_type": "code",
   "execution_count": 22,
   "metadata": {
    "collapsed": true
   },
   "outputs": [],
   "source": [
    "# Minimiere das Zielfunktional\n",
    "# method='CG' oder method = 'L-BFGS-B'\n",
    "Min = minimize(Funktional, u_0, method='L-BFGS-B',options={'disp': True})\n",
    "\n",
    "# Berechne den zugehörigen Zustand\n",
    "ymin = Euler(Min.x)\n"
   ]
  },
  {
   "cell_type": "code",
   "execution_count": 23,
   "metadata": {},
   "outputs": [
    {
     "name": "stdout",
     "output_type": "stream",
     "text": [
      "219.534529024\n",
      "Schrittweite:2.2450647135\n"
     ]
    },
    {
     "data": {
      "image/png": "[encoded data removed]",
      "text/plain": [
       "<matplotlib.figure.Figure at 0x24614f62278>"
      ]
     },
     "metadata": {},
     "output_type": "display_data"
    },
    {
     "data": {
      "image/png": "[encoded data removed]",
      "text/plain": [
       "<matplotlib.figure.Figure at 0x24614fb8eb8>"
      ]
     },
     "metadata": {},
     "output_type": "display_data"
    }
   ],
   "source": [
    "# Plotten der Ergebnisse\n",
    "print(Funktional(Min.x))\n",
    "plt.figure()\n",
    "plt.title('Optimaler verlauf')\n",
    "plt.plot(ymin[0,:],ymin[1,:])\n",
    "plt.figure()\n",
    "plt.plot(Min.x[0:N])\n",
    "print('Schrittweite:'+ str(Min.x[N]))"
   ]
  },
  {
   "cell_type": "code",
   "execution_count": 11,
   "metadata": {},
   "outputs": [
    {
     "name": "stdout",
     "output_type": "stream",
     "text": [
      "(2, 101)\n",
      "(101,)\n",
      "2.14143866153\n"
     ]
    }
   ],
   "source": [
    "# Überprüfen mit Pontrjaginschen Maximumprinzip\n",
    "\n",
    "# Adjungierte berechnen\n",
    "p = np.zeros((2,N+1))\n",
    "print(p.shape)\n",
    "p[:,N] = np.array([2*cz*(ymin[0,-1]-zT),2*cx*(ymin[1,-1]-xT)])\n",
    "u = Min.x\n",
    "print(u.shape)\n",
    "for i in range(1,N+1):\n",
    "        #print(i)\n",
    "        Df = Zustandsgleichung(ymin[1,N-i],u[N-i],'Df')\n",
    "        #print(u[N])\n",
    "        p[:,N-i] = p[:,N-i+1] + u[N]* Df\n",
    "\n",
    "f = Zustandsgleichung(ymin[1,0:N],u[0:N],'f')\n",
    "# Hamilton Funktion\n",
    "H_p = cz*np.power(ymin[0,-1]-zT,2) + cx*np.power(ymin[1,-1]-xT,2) #+cu*u[0:N]*u[0:N] + p[0,1:N+1]*f[0,:]+ p[1,1:N+1]*f[1,:]\n",
    "print(H_p)"
   ]
  },
  {
   "cell_type": "code",
   "execution_count": null,
   "metadata": {
    "collapsed": true
   },
   "outputs": [],
   "source": []
  }
 ],
 "metadata": {
  "kernelspec": {
   "display_name": "Python 3",
   "language": "python",
   "name": "python3"
  },
  "language_info": {
   "codemirror_mode": {
    "name": "ipython",
    "version": 3
   },
   "file_extension": ".py",
   "mimetype": "text/x-python",
   "name": "python",
   "nbconvert_exporter": "python",
   "pygments_lexer": "ipython3",
   "version": "3.5.3"
  }
 },
 "nbformat": 4,
 "nbformat_minor": 2
}
